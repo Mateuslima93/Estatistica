{
 "cells": [
  {
   "cell_type": "code",
   "execution_count": 1,
   "metadata": {},
   "outputs": [],
   "source": [
    "import pandas as pd\n",
    "import numpy as np"
   ]
  },
  {
   "cell_type": "code",
   "execution_count": 2,
   "metadata": {},
   "outputs": [
    {
     "data": {
      "text/html": [
       "<div>\n",
       "<style scoped>\n",
       "    .dataframe tbody tr th:only-of-type {\n",
       "        vertical-align: middle;\n",
       "    }\n",
       "\n",
       "    .dataframe tbody tr th {\n",
       "        vertical-align: top;\n",
       "    }\n",
       "\n",
       "    .dataframe thead th {\n",
       "        text-align: right;\n",
       "    }\n",
       "</style>\n",
       "<table border=\"1\" class=\"dataframe\">\n",
       "  <thead>\n",
       "    <tr style=\"text-align: right;\">\n",
       "      <th></th>\n",
       "      <th>UF</th>\n",
       "      <th>Sexo</th>\n",
       "      <th>Idade</th>\n",
       "      <th>Cor</th>\n",
       "      <th>Anos de Estudo</th>\n",
       "      <th>Renda</th>\n",
       "      <th>Altura</th>\n",
       "    </tr>\n",
       "  </thead>\n",
       "  <tbody>\n",
       "    <tr>\n",
       "      <th>0</th>\n",
       "      <td>11</td>\n",
       "      <td>0</td>\n",
       "      <td>23</td>\n",
       "      <td>8</td>\n",
       "      <td>12</td>\n",
       "      <td>800</td>\n",
       "      <td>1.603808</td>\n",
       "    </tr>\n",
       "    <tr>\n",
       "      <th>1</th>\n",
       "      <td>11</td>\n",
       "      <td>1</td>\n",
       "      <td>23</td>\n",
       "      <td>2</td>\n",
       "      <td>12</td>\n",
       "      <td>1150</td>\n",
       "      <td>1.739790</td>\n",
       "    </tr>\n",
       "    <tr>\n",
       "      <th>2</th>\n",
       "      <td>11</td>\n",
       "      <td>1</td>\n",
       "      <td>35</td>\n",
       "      <td>8</td>\n",
       "      <td>15</td>\n",
       "      <td>880</td>\n",
       "      <td>1.760444</td>\n",
       "    </tr>\n",
       "    <tr>\n",
       "      <th>3</th>\n",
       "      <td>11</td>\n",
       "      <td>0</td>\n",
       "      <td>46</td>\n",
       "      <td>2</td>\n",
       "      <td>6</td>\n",
       "      <td>3500</td>\n",
       "      <td>1.783158</td>\n",
       "    </tr>\n",
       "    <tr>\n",
       "      <th>4</th>\n",
       "      <td>11</td>\n",
       "      <td>1</td>\n",
       "      <td>47</td>\n",
       "      <td>8</td>\n",
       "      <td>9</td>\n",
       "      <td>150</td>\n",
       "      <td>1.690631</td>\n",
       "    </tr>\n",
       "  </tbody>\n",
       "</table>\n",
       "</div>"
      ],
      "text/plain": [
       "   UF  Sexo  Idade  Cor  Anos de Estudo  Renda    Altura\n",
       "0  11     0     23    8              12    800  1.603808\n",
       "1  11     1     23    2              12   1150  1.739790\n",
       "2  11     1     35    8              15    880  1.760444\n",
       "3  11     0     46    2               6   3500  1.783158\n",
       "4  11     1     47    8               9    150  1.690631"
      ]
     },
     "execution_count": 2,
     "metadata": {},
     "output_type": "execute_result"
    }
   ],
   "source": [
    "dados = pd.read_csv('dados/dados.csv')\n",
    "dados.head()"
   ]
  },
  {
   "cell_type": "code",
   "execution_count": 3,
   "metadata": {},
   "outputs": [
    {
     "data": {
      "text/plain": [
       "0         800\n",
       "3        3500\n",
       "6        3150\n",
       "9        1150\n",
       "13       2000\n",
       "         ... \n",
       "76833    1900\n",
       "76836    1500\n",
       "76837    1300\n",
       "76838    1500\n",
       "76839     900\n",
       "Name: Renda, Length: 53250, dtype: int64"
      ]
     },
     "execution_count": 3,
     "metadata": {},
     "output_type": "execute_result"
    }
   ],
   "source": [
    "#Serie com renda dos homens\n",
    "renda_homens = dados.query('Sexo == 0')['Renda']\n",
    "renda_homens"
   ]
  },
  {
   "cell_type": "code",
   "execution_count": 4,
   "metadata": {},
   "outputs": [
    {
     "data": {
      "text/plain": [
       "1         1150\n",
       "2          880\n",
       "4          150\n",
       "5          790\n",
       "7         1700\n",
       "         ...  \n",
       "76827    10000\n",
       "76831    30000\n",
       "76832     5000\n",
       "76834     1100\n",
       "76835      812\n",
       "Name: Renda, Length: 23590, dtype: int64"
      ]
     },
     "execution_count": 4,
     "metadata": {},
     "output_type": "execute_result"
    }
   ],
   "source": [
    "#Serie com renda das mulheres\n",
    "renda_mulheres = dados.query('Sexo == 1')['Renda']\n",
    "renda_mulheres"
   ]
  },
  {
   "cell_type": "code",
   "execution_count": 7,
   "metadata": {},
   "outputs": [
    {
     "name": "stdout",
     "output_type": "stream",
     "text": [
      "A amostra da Renda dos homens  tem média - 2142.61, e desvio - 2548.05\n",
      "A amostra da Renda das mulheres  tem média - 1357.53, e desvio - 1569.9\n"
     ]
    }
   ],
   "source": [
    "#Amostragem aleatoria de 500, media e desvio\n",
    "amostra_homens = renda_homens.sample(500, random_state=101)\n",
    "amostra_mulheres = renda_mulheres.sample(500, random_state=101)\n",
    "media_amostra_homens= amostra_homens.mean()\n",
    "media_amostra_mulheres = amostra_mulheres.mean()\n",
    "desvio_amostra_homens = amostra_homens.std()\n",
    "desvio_amostra_mulheres = amostra_mulheres.std()\n",
    "print(f'A amostra da Renda dos homens  tem média - {media_amostra_homens.round(2)}, e desvio - {desvio_amostra_homens.round(2)}')\n",
    "print(f'A amostra da Renda das mulheres  tem média - {media_amostra_mulheres.round(2)}, e desvio - {desvio_amostra_mulheres.round(2)}')"
   ]
  },
  {
   "cell_type": "code",
   "execution_count": 12,
   "metadata": {},
   "outputs": [
    {
     "name": "stdout",
     "output_type": "stream",
     "text": [
      "2.3263478740408408, 5.8656200577647555\n"
     ]
    }
   ],
   "source": [
    "# Calculo estatística do teste\n",
    "from scipy.stats import norm\n",
    "alfa = 0.01\n",
    "beta = 1- alfa\n",
    "n_h = 500\n",
    "n_m = 500\n",
    "d_0 = 0\n",
    "probabilidade = beta\n",
    "z_alfa = norm.ppf(probabilidade)\n",
    "z = ((media_amostra_homens - media_amostra_mulheres) - (d_0)) / np.sqrt((desvio_amostra_homens**2/n_h)+(desvio_amostra_mulheres**2/n_m))\n",
    "print(f'{z_alfa}, {z}')"
   ]
  },
  {
   "cell_type": "code",
   "execution_count": 13,
   "metadata": {},
   "outputs": [
    {
     "data": {
      "text/plain": [
       "True"
      ]
     },
     "execution_count": 13,
     "metadata": {},
     "output_type": "execute_result"
    }
   ],
   "source": [
    "##teste de hipotese\n",
    "z > z_alfa"
   ]
  },
  {
   "cell_type": "code",
   "execution_count": 18,
   "metadata": {},
   "outputs": [],
   "source": [
    "#exemplo shampoo\n",
    "##Em testes entre duas amostras n = n1+n2\n",
    "d_0 = 2\n",
    "alfa = 0.05\n",
    "beta = 1-alfa\n",
    "shampoo_novo = pd.Series([3.4,4.9,2.8,5.5,3.7,2.5,4.3,4.6,3.7,3.4])\n",
    "shampoo_antigo = pd.Series([0.3,1.2,1.2,1.7,1.1,0.6,1.2,1.5,0.5,0.7])\n",
    "n_novo = shampoo_novo.shape[0]\n",
    "n_antigo = shampoo_antigo.shape[0]\n",
    "graus_de_liberdade = n_novo + n_antigo - 2"
   ]
  },
  {
   "cell_type": "code",
   "execution_count": 19,
   "metadata": {},
   "outputs": [
    {
     "name": "stdout",
     "output_type": "stream",
     "text": [
      "Hipótese nula rejeitada - t: 2.6646, t_alfa 1.7341\n"
     ]
    }
   ],
   "source": [
    "from scipy.stats import t as t_student\n",
    "\n",
    "media_novo = shampoo_novo.mean()\n",
    "media_antigo = shampoo_antigo.mean()\n",
    "desvio_novo = shampoo_novo.std()\n",
    "desvio_antigo = shampoo_antigo.std()\n",
    "t_alfa = t_student.ppf(beta,graus_de_liberdade)\n",
    "t = ((media_novo-media_antigo)-(d_0))/np.sqrt((desvio_novo**2/n_novo)+(desvio_antigo**2/n_antigo))\n",
    "if t > t_alfa:\n",
    "    print(f'Hipótese nula rejeitada - t: {t.round(4)}, t_alfa {t_alfa.round(4)}')\n",
    "else:\n",
    "    print(f'Hipótese nula aceita - t: {t.round(4)}, t_alfa {t_alfa.round(4)}')"
   ]
  },
  {
   "cell_type": "code",
   "execution_count": 20,
   "metadata": {},
   "outputs": [],
   "source": [
    "from statsmodels.stats.weightstats import DescrStatsW, CompareMeans"
   ]
  },
  {
   "cell_type": "code",
   "execution_count": 21,
   "metadata": {},
   "outputs": [],
   "source": [
    "#primeira solucao com statsmodels\n",
    "test_h = DescrStatsW(amostra_homens)\n",
    "test_m = DescrStatsW(amostra_mulheres)\n",
    "test = test_h.get_compare(test_m)"
   ]
  },
  {
   "cell_type": "code",
   "execution_count": 22,
   "metadata": {},
   "outputs": [
    {
     "data": {
      "text/plain": [
       "(5.8656200577647555, 2.2372867859458094e-09)"
      ]
     },
     "execution_count": 22,
     "metadata": {},
     "output_type": "execute_result"
    }
   ],
   "source": [
    "test.ztest_ind(alternative = 'larger',value=0)"
   ]
  },
  {
   "cell_type": "code",
   "execution_count": 24,
   "metadata": {},
   "outputs": [
    {
     "data": {
      "text/plain": [
       "(5.8656200577647555, 2.2372867859458094e-09)"
      ]
     },
     "execution_count": 24,
     "metadata": {},
     "output_type": "execute_result"
    }
   ],
   "source": [
    "#segunda solucao usando statsmodels\n",
    "\n",
    "test = CompareMeans(test_h,test_m)\n",
    "test.ztest_ind(alternative = 'larger',value=0)"
   ]
  },
  {
   "cell_type": "code",
   "execution_count": null,
   "metadata": {},
   "outputs": [],
   "source": []
  }
 ],
 "metadata": {
  "kernelspec": {
   "display_name": "Python 3",
   "language": "python",
   "name": "python3"
  },
  "language_info": {
   "codemirror_mode": {
    "name": "ipython",
    "version": 3
   },
   "file_extension": ".py",
   "mimetype": "text/x-python",
   "name": "python",
   "nbconvert_exporter": "python",
   "pygments_lexer": "ipython3",
   "version": "3.8.5"
  }
 },
 "nbformat": 4,
 "nbformat_minor": 4
}
