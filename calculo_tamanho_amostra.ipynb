{
 "cells": [
  {
   "cell_type": "code",
   "execution_count": 1,
   "metadata": {},
   "outputs": [],
   "source": [
    "import pandas as pd\n",
    "import numpy as np\n",
    "from scipy.stats import norm"
   ]
  },
  {
   "cell_type": "code",
   "execution_count": 6,
   "metadata": {},
   "outputs": [
    {
     "data": {
      "text/plain": [
       "4243"
      ]
     },
     "execution_count": 6,
     "metadata": {},
     "output_type": "execute_result"
    }
   ],
   "source": [
    "# Calculo amostral para população infinita e variáveis quantitativas\n",
    "\n",
    "e= 100\n",
    "alfa = 0.05\n",
    "area_beta = 1-(alfa/2)\n",
    "desvpop = 3323.39\n",
    "z = norm.ppf(area_beta)\n",
    "\n",
    "n = (z*(desvpop/e))**2\n",
    "int(n.round())"
   ]
  },
  {
   "cell_type": "code",
   "execution_count": 18,
   "metadata": {},
   "outputs": [
    {
     "data": {
      "text/plain": [
       "29"
      ]
     },
     "execution_count": 18,
     "metadata": {},
     "output_type": "execute_result"
    }
   ],
   "source": [
    "#exemplo lanchonete\n",
    "media = 45.5\n",
    "desvio = 15.0\n",
    "alfa = 0.1\n",
    "area_beta = 1-(alfa/2)\n",
    "erro = 0.1*media\n",
    "z= norm.ppf(area_beta)\n",
    "\n",
    "n = (z*(desvio/erro))**2\n",
    "int(n.round())"
   ]
  },
  {
   "cell_type": "code",
   "execution_count": 12,
   "metadata": {},
   "outputs": [],
   "source": [
    "# Calculo amostral para população finita e variáveis quantitativas"
   ]
  },
  {
   "cell_type": "code",
   "execution_count": 20,
   "metadata": {},
   "outputs": [
    {
     "data": {
      "text/plain": [
       "22"
      ]
     },
     "execution_count": 20,
     "metadata": {},
     "output_type": "execute_result"
    }
   ],
   "source": [
    "N = 10000\n",
    "alfa = 0.05\n",
    "area_beta = 1-(alfa/2)\n",
    "z = norm.ppf(area_beta)\n",
    "erro = 5\n",
    "desvio = 12\n",
    "\n",
    "n = ((z**2)*(desvio**2)*N)/(((z**2)*(desvio**2)) + ((erro**2)*(N-1)))\n",
    "int(n.round())"
   ]
  },
  {
   "cell_type": "code",
   "execution_count": 21,
   "metadata": {},
   "outputs": [
    {
     "data": {
      "text/plain": [
       "10"
      ]
     },
     "execution_count": 21,
     "metadata": {},
     "output_type": "execute_result"
    }
   ],
   "source": [
    "#exemplo amostra de farinha \n",
    "\n",
    "amostra = 200\n",
    "N = 2000\n",
    "desvio = 480\n",
    "erro = 300\n",
    "alfa =0.05\n",
    "area_beta = 1-(alfa/2)\n",
    "z = norm.ppf(area_beta)\n",
    "\n",
    "n = ((z**2)*(desvio**2)*N)/(((z**2)*(desvio**2)) + ((erro**2)*(N-1)))\n",
    "int(n.round())"
   ]
  },
  {
   "cell_type": "code",
   "execution_count": 25,
   "metadata": {},
   "outputs": [
    {
     "data": {
      "text/plain": [
       "0         800\n",
       "1        1150\n",
       "2         880\n",
       "3        3500\n",
       "4         150\n",
       "         ... \n",
       "76835     812\n",
       "76836    1500\n",
       "76837    1300\n",
       "76838    1500\n",
       "76839     900\n",
       "Name: Renda, Length: 72109, dtype: int64"
      ]
     },
     "execution_count": 25,
     "metadata": {},
     "output_type": "execute_result"
    }
   ],
   "source": [
    "#pratica foda\n",
    "dados = pd.read_csv('dados/dados.csv')\n",
    "renda = dados.query('Renda <= 5000').Renda\n",
    "renda"
   ]
  },
  {
   "cell_type": "code",
   "execution_count": 26,
   "metadata": {},
   "outputs": [
    {
     "data": {
      "text/plain": [
       "1426.5372144947232"
      ]
     },
     "execution_count": 26,
     "metadata": {},
     "output_type": "execute_result"
    }
   ],
   "source": [
    "renda.mean()"
   ]
  },
  {
   "cell_type": "code",
   "execution_count": 27,
   "metadata": {},
   "outputs": [
    {
     "data": {
      "text/plain": [
       "1082.7945490306845"
      ]
     },
     "execution_count": 27,
     "metadata": {},
     "output_type": "execute_result"
    }
   ],
   "source": [
    "renda.std()"
   ]
  },
  {
   "cell_type": "code",
   "execution_count": 28,
   "metadata": {},
   "outputs": [
    {
     "data": {
      "text/plain": [
       "72109"
      ]
     },
     "execution_count": 28,
     "metadata": {},
     "output_type": "execute_result"
    }
   ],
   "source": [
    "renda.shape[0]"
   ]
  },
  {
   "cell_type": "code",
   "execution_count": 41,
   "metadata": {},
   "outputs": [
    {
     "name": "stdout",
     "output_type": "stream",
     "text": [
      "A amostra mínima representativa desta população é 221\n",
      "O intervalo de confiança para um amostra de 221 é 1346.91 a 1667.79\n"
     ]
    }
   ],
   "source": [
    "#Calculo amostral e intervalo de confiança\n",
    "N = renda.shape[0]\n",
    "media = renda.mean()\n",
    "desvio = renda.std()\n",
    "alfa = 0.05\n",
    "erro_percentual = 0.1\n",
    "erro = erro_percentual*media\n",
    "area_beta = 1-(alfa/2)\n",
    "z = norm.ppf(area_beta)\n",
    "\n",
    "\n",
    "n = ((z**2)*(desvio**2)*N)/(((z**2)*(desvio**2)) + ((erro**2)*(N-1)))\n",
    "print(f'A amostra mínima representativa desta população é {int(n.round())}')\n",
    "\n",
    "amostra = renda.sample(int(n.round()))\n",
    "media = amostra.mean()\n",
    "desvio = amostra.std()\n",
    "e = z*(desvio/np.sqrt(amostra.shape[0]))\n",
    "intervalo = (media - e, media + e)\n",
    "print(f'O intervalo de confiança para um amostra de {amostra.shape[0]} é {round(intervalo[0],2)} a {round(intervalo[1],2)}')"
   ]
  },
  {
   "cell_type": "code",
   "execution_count": 49,
   "metadata": {},
   "outputs": [
    {
     "data": {
      "text/plain": [
       "<AxesSubplot:ylabel='Frequency'>"
      ]
     },
     "execution_count": 49,
     "metadata": {},
     "output_type": "execute_result"
    },
    {
     "data": {
      "image/png": "[encoded data removed]",
      "text/plain": [
       "<Figure size 432x288 with 1 Axes>"
      ]
     },
     "metadata": {
      "needs_background": "light"
     },
     "output_type": "display_data"
    }
   ],
   "source": [
    "import matplotlib.pyplot as plt\n",
    "\n",
    "simulacoes = 1000\n",
    "amostras = [renda.sample(221).mean() for i in range(1,1000)]\n",
    "medias = pd.DataFrame(amostras)\n",
    "medias.plot.hist()"
   ]
  },
  {
   "cell_type": "code",
   "execution_count": null,
   "metadata": {},
   "outputs": [],
   "source": []
  }
 ],
 "metadata": {
  "kernelspec": {
   "display_name": "Python 3",
   "language": "python",
   "name": "python3"
  },
  "language_info": {
   "codemirror_mode": {
    "name": "ipython",
    "version": 3
   },
   "file_extension": ".py",
   "mimetype": "text/x-python",
   "name": "python",
   "nbconvert_exporter": "python",
   "pygments_lexer": "ipython3",
   "version": "3.8.5"
  }
 },
 "nbformat": 4,
 "nbformat_minor": 4
}
