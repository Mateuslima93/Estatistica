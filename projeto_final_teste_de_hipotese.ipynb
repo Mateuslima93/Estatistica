{
 "cells": [
  {
   "cell_type": "code",
   "execution_count": 5,
   "metadata": {},
   "outputs": [],
   "source": [
    "import pandas as pd\n",
    "import numpy as np\n",
    "from scipy.stats import norm"
   ]
  },
  {
   "cell_type": "code",
   "execution_count": 14,
   "metadata": {},
   "outputs": [],
   "source": [
    "dados = pd.read_csv('dados/dados.csv')\n",
    "significancia = 0.05\n",
    "confianca = 1 - significancia\n",
    "probabilidade = confianca\n",
    "z_alfa = norm.ppf(probabilidade)\n",
    "amostra_rio = dados.query('UF == 33').Renda.sample(500, random_state=101)\n",
    "amostra_sp = dados.query('UF == 35').Renda.sample(500, random_state=101)"
   ]
  },
  {
   "cell_type": "code",
   "execution_count": 16,
   "metadata": {},
   "outputs": [
    {
     "name": "stdout",
     "output_type": "stream",
     "text": [
      "Hipótese nula rejeitada, z : -2.2553 e -z_alfa : -1.6449\n"
     ]
    }
   ],
   "source": [
    "d0 = 0\n",
    "n1 = amostra_rio.shape[0]\n",
    "n2 = amostra_sp.shape[0]\n",
    "media_rio = amostra_rio.mean()\n",
    "media_sp = amostra_sp.mean()\n",
    "desvio_rio = amostra_rio.std()\n",
    "desvio_sp = amostra_sp.std()\n",
    "z = ((media_rio - media_sp) - (d0))/np.sqrt((desvio_rio**2/n1)+(desvio_sp**2/n2))\n",
    "if z < -z_alfa:\n",
    "    print(f'Hipótese nula rejeitada, z : {z.round(4)} e -z_alfa : {-z_alfa.round(4)}')\n",
    "else:\n",
    "    print(f'Hipótese nula aceita, z : {z.round(4)} e -z_alfa : {-z_alfa.round(4)}')"
   ]
  },
  {
   "cell_type": "code",
   "execution_count": 17,
   "metadata": {},
   "outputs": [],
   "source": [
    "from statsmodels.stats.weightstats import DescrStatsW, CompareMeans"
   ]
  },
  {
   "cell_type": "code",
   "execution_count": 18,
   "metadata": {},
   "outputs": [
    {
     "data": {
      "text/plain": [
       "(-2.255318273608558, 0.012056679215693396)"
      ]
     },
     "execution_count": 18,
     "metadata": {},
     "output_type": "execute_result"
    }
   ],
   "source": [
    "test_rio = DescrStatsW(amostra_rio)\n",
    "test_sp = DescrStatsW(amostra_sp)\n",
    "test = test_rio.get_compare(test_sp)\n",
    "test.ztest_ind(alternative = 'smaller',value=0)"
   ]
  },
  {
   "cell_type": "code",
   "execution_count": null,
   "metadata": {},
   "outputs": [],
   "source": []
  }
 ],
 "metadata": {
  "kernelspec": {
   "display_name": "Python 3",
   "language": "python",
   "name": "python3"
  },
  "language_info": {
   "codemirror_mode": {
    "name": "ipython",
    "version": 3
   },
   "file_extension": ".py",
   "mimetype": "text/x-python",
   "name": "python",
   "nbconvert_exporter": "python",
   "pygments_lexer": "ipython3",
   "version": "3.8.5"
  }
 },
 "nbformat": 4,
 "nbformat_minor": 4
}
