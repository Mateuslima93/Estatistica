{
 "cells": [
  {
   "cell_type": "code",
   "execution_count": 1,
   "metadata": {},
   "outputs": [],
   "source": [
    "import pandas as pd\n",
    "import numpy as np\n",
    "from scipy.stats import norm"
   ]
  },
  {
   "cell_type": "code",
   "execution_count": 6,
   "metadata": {},
   "outputs": [
    {
     "data": {
      "text/plain": [
       "4243"
      ]
     },
     "execution_count": 6,
     "metadata": {},
     "output_type": "execute_result"
    }
   ],
   "source": [
    "# Calculo amostral para população infinita e variáveis quantitativas\n",
    "\n",
    "e= 100\n",
    "alfa = 0.05\n",
    "area_beta = 1-(alfa/2)\n",
    "desvpop = 3323.39\n",
    "z = norm.ppf(area_beta)\n",
    "\n",
    "n = (z*(desvpop/e))**2\n",
    "int(n.round())"
   ]
  },
  {
   "cell_type": "code",
   "execution_count": 18,
   "metadata": {},
   "outputs": [
    {
     "data": {
      "text/plain": [
       "29"
      ]
     },
     "execution_count": 18,
     "metadata": {},
     "output_type": "execute_result"
    }
   ],
   "source": [
    "#exemplo lanchonete\n",
    "media = 45.5\n",
    "desvio = 15.0\n",
    "alfa = 0.1\n",
    "area_beta = 1-(alfa/2)\n",
    "erro = 0.1*media\n",
    "z= norm.ppf(area_beta)\n",
    "\n",
    "n = (z*(desvio/erro))**2\n",
    "int(n.round())"
   ]
  },
  {
   "cell_type": "code",
   "execution_count": 12,
   "metadata": {},
   "outputs": [],
   "source": [
    "# Calculo amostral para população finita e variáveis quantitativas"
   ]
  },
  {
   "cell_type": "code",
   "execution_count": 20,
   "metadata": {},
   "outputs": [
    {
     "data": {
      "text/plain": [
       "22"
      ]
     },
     "execution_count": 20,
     "metadata": {},
     "output_type": "execute_result"
    }
   ],
   "source": [
    "N = 10000\n",
    "alfa = 0.05\n",
    "area_beta = 1-(alfa/2)\n",
    "z = norm.ppf(area_beta)\n",
    "erro = 5\n",
    "desvio = 12\n",
    "\n",
    "n = ((z**2)*(desvio**2)*N)/(((z**2)*(desvio**2)) + ((erro**2)*(N-1)))\n",
    "int(n.round())"
   ]
  },
  {
   "cell_type": "code",
   "execution_count": 21,
   "metadata": {},
   "outputs": [
    {
     "data": {
      "text/plain": [
       "10"
      ]
     },
     "execution_count": 21,
     "metadata": {},
     "output_type": "execute_result"
    }
   ],
   "source": [
    "#exemplo amostra de farinha \n",
    "\n",
    "amostra = 200\n",
    "N = 2000\n",
    "desvio = 480\n",
    "erro = 300\n",
    "alfa =0.05\n",
    "area_beta = 1-(alfa/2)\n",
    "z = norm.ppf(area_beta)\n",
    "\n",
    "n = ((z**2)*(desvio**2)*N)/(((z**2)*(desvio**2)) + ((erro**2)*(N-1)))\n",
    "int(n.round())"
   ]
  },
  {
   "cell_type": "code",
   "execution_count": null,
   "metadata": {},
   "outputs": [],
   "source": []
  }
 ],
 "metadata": {
  "kernelspec": {
   "display_name": "Python 3",
   "language": "python",
   "name": "python3"
  },
  "language_info": {
   "codemirror_mode": {
    "name": "ipython",
    "version": 3
   },
   "file_extension": ".py",
   "mimetype": "text/x-python",
   "name": "python",
   "nbconvert_exporter": "python",
   "pygments_lexer": "ipython3",
   "version": "3.8.5"
  }
 },
 "nbformat": 4,
 "nbformat_minor": 4
}
