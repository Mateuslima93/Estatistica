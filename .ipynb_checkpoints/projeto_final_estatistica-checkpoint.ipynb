{
 "cells": [
  {
   "cell_type": "code",
   "execution_count": 16,
   "metadata": {},
   "outputs": [],
   "source": [
    "import pandas as pd\n",
    "import numpy as np\n",
    "from scipy.stats import norm, binom, poisson"
   ]
  },
  {
   "cell_type": "code",
   "execution_count": 17,
   "metadata": {},
   "outputs": [],
   "source": [
    "dados = pd.read_csv('dados/dados.csv')"
   ]
  },
  {
   "cell_type": "code",
   "execution_count": 18,
   "metadata": {},
   "outputs": [
    {
     "data": {
      "text/html": [
       "<div>\n",
       "<style scoped>\n",
       "    .dataframe tbody tr th:only-of-type {\n",
       "        vertical-align: middle;\n",
       "    }\n",
       "\n",
       "    .dataframe tbody tr th {\n",
       "        vertical-align: top;\n",
       "    }\n",
       "\n",
       "    .dataframe thead th {\n",
       "        text-align: right;\n",
       "    }\n",
       "</style>\n",
       "<table border=\"1\" class=\"dataframe\">\n",
       "  <thead>\n",
       "    <tr style=\"text-align: right;\">\n",
       "      <th></th>\n",
       "      <th>UF</th>\n",
       "      <th>Sexo</th>\n",
       "      <th>Idade</th>\n",
       "      <th>Cor</th>\n",
       "      <th>Anos de Estudo</th>\n",
       "      <th>Renda</th>\n",
       "      <th>Altura</th>\n",
       "    </tr>\n",
       "  </thead>\n",
       "  <tbody>\n",
       "    <tr>\n",
       "      <th>0</th>\n",
       "      <td>11</td>\n",
       "      <td>0</td>\n",
       "      <td>23</td>\n",
       "      <td>8</td>\n",
       "      <td>12</td>\n",
       "      <td>800</td>\n",
       "      <td>1.603808</td>\n",
       "    </tr>\n",
       "    <tr>\n",
       "      <th>1</th>\n",
       "      <td>11</td>\n",
       "      <td>1</td>\n",
       "      <td>23</td>\n",
       "      <td>2</td>\n",
       "      <td>12</td>\n",
       "      <td>1150</td>\n",
       "      <td>1.739790</td>\n",
       "    </tr>\n",
       "    <tr>\n",
       "      <th>2</th>\n",
       "      <td>11</td>\n",
       "      <td>1</td>\n",
       "      <td>35</td>\n",
       "      <td>8</td>\n",
       "      <td>15</td>\n",
       "      <td>880</td>\n",
       "      <td>1.760444</td>\n",
       "    </tr>\n",
       "    <tr>\n",
       "      <th>3</th>\n",
       "      <td>11</td>\n",
       "      <td>0</td>\n",
       "      <td>46</td>\n",
       "      <td>2</td>\n",
       "      <td>6</td>\n",
       "      <td>3500</td>\n",
       "      <td>1.783158</td>\n",
       "    </tr>\n",
       "    <tr>\n",
       "      <th>4</th>\n",
       "      <td>11</td>\n",
       "      <td>1</td>\n",
       "      <td>47</td>\n",
       "      <td>8</td>\n",
       "      <td>9</td>\n",
       "      <td>150</td>\n",
       "      <td>1.690631</td>\n",
       "    </tr>\n",
       "  </tbody>\n",
       "</table>\n",
       "</div>"
      ],
      "text/plain": [
       "   UF  Sexo  Idade  Cor  Anos de Estudo  Renda    Altura\n",
       "0  11     0     23    8              12    800  1.603808\n",
       "1  11     1     23    2              12   1150  1.739790\n",
       "2  11     1     35    8              15    880  1.760444\n",
       "3  11     0     46    2               6   3500  1.783158\n",
       "4  11     1     47    8               9    150  1.690631"
      ]
     },
     "execution_count": 18,
     "metadata": {},
     "output_type": "execute_result"
    }
   ],
   "source": [
    "dados.head()"
   ]
  },
  {
   "cell_type": "code",
   "execution_count": 19,
   "metadata": {},
   "outputs": [
    {
     "data": {
      "text/plain": [
       "0    0.692998\n",
       "1    0.307002\n",
       "Name: Sexo, dtype: float64"
      ]
     },
     "execution_count": 19,
     "metadata": {},
     "output_type": "execute_result"
    }
   ],
   "source": [
    "dados.Sexo.value_counts(normalize=True)"
   ]
  },
  {
   "cell_type": "code",
   "execution_count": 30,
   "metadata": {},
   "outputs": [
    {
     "name": "stdout",
     "output_type": "stream",
     "text": [
      "A probabilidade de se encontrar 7 homens em uma amostra de 10 indivíduos é de 12.0%\n"
     ]
    }
   ],
   "source": [
    "#Problema A\n",
    "##probabilidade de selecionar 7 homens em uma amostra de 10 indivíduos\n",
    "probabilidade = binom.pmf(7,10,0.5)\n",
    "print(f'A probabilidade de se encontrar 7 homens em uma amostra de 10 indivíduos é de {round(probabilidade,2)*100}%')"
   ]
  },
  {
   "cell_type": "code",
   "execution_count": 21,
   "metadata": {},
   "outputs": [
    {
     "data": {
      "text/plain": [
       "0    9\n",
       "1    1\n",
       "Name: Sexo, dtype: int64"
      ]
     },
     "execution_count": 21,
     "metadata": {},
     "output_type": "execute_result"
    }
   ],
   "source": [
    "amostra = dados.sample(10)\n",
    "amostra.Sexo.value_counts()"
   ]
  },
  {
   "cell_type": "code",
   "execution_count": 28,
   "metadata": {},
   "outputs": [
    {
     "name": "stdout",
     "output_type": "stream",
     "text": [
      "Para encontrar 100 grupos com 7 homens e 3 mulheres é preciso selecionar 853 grupos\n"
     ]
    }
   ],
   "source": [
    "#Problema B\n",
    "##media de distribuição binomial \n",
    "n = 100/probabilidade\n",
    "probabilidade\n",
    "print(f'Para encontrar 100 grupos com 7 homens e 3 mulheres é preciso selecionar {int(n.round())} grupos')"
   ]
  },
  {
   "cell_type": "code",
   "execution_count": 31,
   "metadata": {},
   "outputs": [
    {
     "data": {
      "text/plain": [
       "29042     480\n",
       "62672     250\n",
       "29973     788\n",
       "22428    1680\n",
       "55145    2500\n",
       "         ... \n",
       "50497    3400\n",
       "3668      780\n",
       "4872     1000\n",
       "38670    1000\n",
       "71730     600\n",
       "Name: Renda, Length: 200, dtype: int64"
      ]
     },
     "execution_count": 31,
     "metadata": {},
     "output_type": "execute_result"
    }
   ],
   "source": [
    "#Problema C\n",
    "##\n",
    "erro = 0.1\n",
    "amostra = dados.Renda.sample(200, random_state =101)\n",
    "amostra"
   ]
  },
  {
   "cell_type": "code",
   "execution_count": 33,
   "metadata": {},
   "outputs": [
    {
     "data": {
      "text/plain": [
       "1964.205"
      ]
     },
     "execution_count": 33,
     "metadata": {},
     "output_type": "execute_result"
    }
   ],
   "source": [
    "media_amostral = amostra.mean()\n",
    "media_amostral"
   ]
  },
  {
   "cell_type": "code",
   "execution_count": 34,
   "metadata": {},
   "outputs": [
    {
     "data": {
      "text/plain": [
       "3139.8855167452093"
      ]
     },
     "execution_count": 34,
     "metadata": {},
     "output_type": "execute_result"
    }
   ],
   "source": [
    "desvio_padrao = amostra.std()\n",
    "desvio_padrao"
   ]
  },
  {
   "cell_type": "code",
   "execution_count": 41,
   "metadata": {},
   "outputs": [
    {
     "name": "stdout",
     "output_type": "stream",
     "text": [
      "Para o nível de significância de [0.1, 0.05, 0.01] o n mínimo é 747 e o custo é R$74700\n",
      "Para o nível de significância de [0.1, 0.05, 0.01] o n mínimo é 1060 e o custo é R$106000\n",
      "Para o nível de significância de [0.1, 0.05, 0.01] o n mínimo é 1831 e o custo é R$183100\n",
      "\n",
      "\n",
      "O intervalo de confiança para um nível de significância 0.05 é de 1800.32 a 2200.45\n",
      "A margem de erro a ser adotada deve ser de R$200.07\n"
     ]
    }
   ],
   "source": [
    "# calculo amostral 90, 95 e 99% de confiança\n",
    "media_populacao = dados.Renda.mean()\n",
    "desvio_populacao = dados.Renda.std()\n",
    "e = media_populacao * erro \n",
    "alfa = [0.1,0.05,0.01]\n",
    "area_beta = [1-(alfa[i]/2) for i in range(len(alfa))]\n",
    "z = [norm.ppf(area_beta[i])for i in range(len(alfa))]\n",
    "n = [(z[i]*(desvio_populacao/e))**2 for i in range(len(z))]\n",
    "for i in range(len(n)):\n",
    "    print(f'Para o nível de significância de {alfa} o n mínimo é {int(n[i].round())} e o custo é R${int(n[i].round())*100}')\n",
    "    \n",
    "#intervalo de confiança\n",
    "erro_intervalo = z[1]*(desvio_populacao/np.sqrt(int(n[1].round())))\n",
    "intervalo = (media_populacao - erro_intervalo, media_populacao + erro_intervalo)\n",
    "print('\\n')\n",
    "print(f'O intervalo de confiança para um nível de significância {alfa[1]} é de {round(intervalo[0],2)} a {round(intervalo[1],2)}')\n",
    "print(f'A margem de erro a ser adotada deve ser de R${round(erro_intervalo,2)}')"
   ]
  },
  {
   "cell_type": "code",
   "execution_count": 42,
   "metadata": {},
   "outputs": [
    {
     "name": "stdout",
     "output_type": "stream",
     "text": [
      "Para o nível de significância de [0.1, 0.05, 0.01] o n mínimo é 2987 e o custo é R$298700\n",
      "Para o nível de significância de [0.1, 0.05, 0.01] o n mínimo é 4241 e o custo é R$424100\n",
      "Para o nível de significância de [0.1, 0.05, 0.01] o n mínimo é 7325 e o custo é R$732500\n"
     ]
    }
   ],
   "source": [
    "# calculo amostral 90, 95 e 99% de confiança com erro de 5%\n",
    "media_populacao = dados.Renda.mean()\n",
    "desvio_populacao = dados.Renda.std()\n",
    "e = media_populacao * 0.05 \n",
    "alfa = [0.1,0.05,0.01]\n",
    "area_beta = [1-(alfa[i]/2) for i in range(len(alfa))]\n",
    "z = [norm.ppf(area_beta[i])for i in range(len(alfa))]\n",
    "n = [(z[i]*(desvio_populacao/e))**2 for i in range(len(z))]\n",
    "for i in range(len(n)):\n",
    "    print(f'Para o nível de significância de {alfa} o n mínimo é {int(n[i].round())} e o custo é R${int(n[i].round())*100}')\n",
    "    "
   ]
  },
  {
   "cell_type": "code",
   "execution_count": null,
   "metadata": {},
   "outputs": [],
   "source": []
  }
 ],
 "metadata": {
  "kernelspec": {
   "display_name": "Python 3",
   "language": "python",
   "name": "python3"
  },
  "language_info": {
   "codemirror_mode": {
    "name": "ipython",
    "version": 3
   },
   "file_extension": ".py",
   "mimetype": "text/x-python",
   "name": "python",
   "nbconvert_exporter": "python",
   "pygments_lexer": "ipython3",
   "version": "3.8.5"
  }
 },
 "nbformat": 4,
 "nbformat_minor": 4
}
